{
  "nbformat": 4,
  "nbformat_minor": 2,
  "metadata": {
    "colab": {
      "name": "splashthat.ipynb",
      "provenance": []
    },
    "kernelspec": {
      "name": "python3",
      "display_name": "Python 3.9.0 64-bit"
    },
    "language_info": {
      "name": "python",
      "version": "3.9.0",
      "mimetype": "text/x-python",
      "codemirror_mode": {
        "name": "ipython",
        "version": 3
      },
      "pygments_lexer": "ipython3",
      "nbconvert_exporter": "python",
      "file_extension": ".py"
    },
    "interpreter": {
      "hash": "17bf00da52a08cc0055471d1c1fb182866cebd4ec4baacb3ea6b67970c593cb2"
    }
  },
  "cells": [
    {
      "cell_type": "code",
      "execution_count": null,
      "source": [
        "import pandas as pd\r\n",
        "import csv\r\n"
      ],
      "outputs": [],
      "metadata": {
        "id": "V-OKOhCazn7x"
      }
    },
    {
      "cell_type": "code",
      "execution_count": null,
      "source": [
        "train = pd.read_csv('train.csv', escapechar = '\\\\', quoting = csv.QUOTE_NONE)"
      ],
      "outputs": [],
      "metadata": {
        "id": "TbqdaJxoz1Eu"
      }
    },
    {
      "cell_type": "code",
      "execution_count": null,
      "source": [
        "train.head(3)"
      ],
      "outputs": [],
      "metadata": {
        "colab": {
          "base_uri": "https://localhost:8080/"
        },
        "id": "HsNxeqo90AMk",
        "outputId": "d4cc0f6e-4dfb-47de-a133-f70a25af733d"
      }
    },
    {
      "cell_type": "code",
      "execution_count": null,
      "source": [
        "train.info()"
      ],
      "outputs": [],
      "metadata": {
        "colab": {
          "base_uri": "https://localhost:8080/",
          "height": 196
        },
        "id": "jRnkljux10ip",
        "outputId": "7055835d-8241-4a50-a519-107bac439d25"
      }
    },
    {
      "cell_type": "code",
      "execution_count": null,
      "source": [
        "train.isnull().sum()"
      ],
      "outputs": [],
      "metadata": {}
    },
    {
      "cell_type": "code",
      "execution_count": null,
      "source": [
        "train = train.dropna()  \r\n",
        "train.head(3)"
      ],
      "outputs": [],
      "metadata": {
        "colab": {
          "base_uri": "https://localhost:8080/",
          "height": 196
        },
        "id": "4AeoUUKX13w0",
        "outputId": "0dabc6bd-4451-4559-f85e-b57ce99777ec"
      }
    },
    {
      "cell_type": "code",
      "execution_count": null,
      "source": [
        "len(train.BROWSE_NODE_ID.value_counts())"
      ],
      "outputs": [],
      "metadata": {
        "colab": {
          "base_uri": "https://localhost:8080/"
        },
        "id": "U0_vKMXQDOTb",
        "outputId": "73b50979-3846-438b-99ac-242245830906"
      }
    },
    {
      "cell_type": "code",
      "execution_count": null,
      "source": [
        "train.drop_duplicates(inplace = True)"
      ],
      "outputs": [],
      "metadata": {
        "id": "WSFyjESiUK0k"
      }
    },
    {
      "cell_type": "code",
      "execution_count": null,
      "source": [
        "import re\r\n",
        "import nltk\r\n",
        "nltk.download('stopwords')\r\n",
        "from nltk.corpus import stopwords"
      ],
      "outputs": [],
      "metadata": {
        "colab": {
          "base_uri": "https://localhost:8080/"
        },
        "id": "hY8boV9xTWba",
        "outputId": "2a52d9f2-4f56-4b72-962c-d091daaf9cdb"
      }
    },
    {
      "cell_type": "code",
      "execution_count": null,
      "source": [
        "remove_special_char = re.compile('[/(){}\\[\\]\\|@,;]')\r\n",
        "remove_extra_symbols = re.compile('[^0-9a-z #+_]')\r\n",
        "STOPWORDS = set(stopwords.words('english'))"
      ],
      "outputs": [],
      "metadata": {
        "id": "3iFAf--cX91Z"
      }
    },
    {
      "cell_type": "code",
      "execution_count": null,
      "source": [
        "def clean_text(text):\r\n",
        "    text = text.lower()\r\n",
        "    text = remove_special_char.sub(' ', text)\r\n",
        "    text = remove_extra_symbols.sub('', text)\r\n",
        "    text = ' '.join(word for word in text.split() if word not in STOPWORDS)\r\n",
        "    return text"
      ],
      "outputs": [],
      "metadata": {
        "id": "y6nub9BTZRis"
      }
    },
    {
      "cell_type": "code",
      "execution_count": null,
      "source": [
        "train['TITLE'] = train['TITLE'].apply(clean_text)\r\n",
        "train['BULLET_POINTS'] = train['BULLET_POINTS'].apply(clean_text)\r\n",
        "train['DESCRIPTION'] = train['DESCRIPTION'].apply(clean_text)\r\n",
        "train['BRAND'] = train['BRAND'].apply(clean_text)"
      ],
      "outputs": [],
      "metadata": {
        "id": "cF4J44UiojCI"
      }
    },
    {
      "cell_type": "code",
      "execution_count": null,
      "source": [
        "train.info(memory_usage = 'deep')"
      ],
      "outputs": [],
      "metadata": {}
    },
    {
      "cell_type": "code",
      "execution_count": null,
      "source": [
        "import numpy as np\r\n",
        "X = train['DESCRIPTION'] + train['BULLET_POINTS'] + train['TITLE'] + train['BRAND']\r\n",
        "y = train['BROWSE_NODE_ID'].astype(np.uint16)\r\n",
        "\r\n",
        "from sklearn.model_selection import train_test_split\r\n",
        "\r\n",
        "X_train, X_test, y_train, y_test = train_test_split(X,y, test_size = 0.2, random_state = 0)"
      ],
      "outputs": [],
      "metadata": {}
    },
    {
      "cell_type": "code",
      "execution_count": null,
      "source": [
        "from sklearn.feature_extraction.text import TfidfVectorizer\r\n",
        "from sklearn.metrics import accuracy_score\r\n",
        "from sklearn.pipeline import Pipeline\r\n",
        "from sklearn.naive_bayes import MultinomialNB"
      ],
      "outputs": [],
      "metadata": {}
    },
    {
      "cell_type": "code",
      "execution_count": null,
      "source": [
        "nb = Pipeline([\r\n",
        "     ('tfid', TfidfVectorizer(sublinear_tf=True, min_df=5, norm='l2', encoding='latin-1', ngram_range=(1, 2), stop_words='english')),\r\n",
        "     ('clf', MultinomialNB(alpha=.01)),\r\n",
        "     ])\r\n",
        "nb.fit(X_train, y_train)"
      ],
      "outputs": [],
      "metadata": {}
    },
    {
      "cell_type": "code",
      "execution_count": null,
      "source": [
        "\r\n",
        "y_pred = nb.predict((X_test))"
      ],
      "outputs": [],
      "metadata": {}
    },
    {
      "cell_type": "code",
      "execution_count": null,
      "source": [
        "print(accuracy_score(y_pred,y_test))"
      ],
      "outputs": [],
      "metadata": {}
    },
    {
      "cell_type": "code",
      "execution_count": null,
      "source": [
        "print(nb.predict(['MenS Full Sleeve shirt']))"
      ],
      "outputs": [],
      "metadata": {}
    },
    {
      "cell_type": "code",
      "execution_count": null,
      "source": [
        "test = pd.read_csv('test.csv', escapechar = '\\\\', quoting = csv.QUOTE_NONE)"
      ],
      "outputs": [],
      "metadata": {}
    },
    {
      "cell_type": "code",
      "execution_count": null,
      "source": [
        "test['TITLE']=test['TITLE'].apply(str)\r\n",
        "test['DESCRIPTION']=test['DESCRIPTION'].apply(str)\r\n",
        "test['BULLET_POINTS']=test['BULLET_POINTS'].apply(str)\r\n",
        "test['BRAND']=test['BRAND'].apply(str)\r\n",
        "\r\n",
        "x_testing = test['TITLE'] + test['DESCRIPTION'] + test['BULLET_POINTS']+ test['BRAND']\r\n",
        "y_pred_test = nb.predict((x_testing))\r\n",
        "print(y_pred_test)"
      ],
      "outputs": [],
      "metadata": {}
    },
    {
      "cell_type": "code",
      "execution_count": null,
      "source": [
        "results = pd.DataFrame({\r\n",
        "    \"PRODUCT_ID\": test['PRODUCT_ID'],\r\n",
        "    \"BROWSE_NODE_ID\": y_pred_test\r\n",
        "})"
      ],
      "outputs": [],
      "metadata": {}
    },
    {
      "cell_type": "code",
      "execution_count": null,
      "source": [
        "results.to_csv('Submission.csv', index = False)"
      ],
      "outputs": [],
      "metadata": {}
    }
  ]
}
